{
 "cells": [
  {
   "cell_type": "code",
   "execution_count": 68,
   "metadata": {},
   "outputs": [],
   "source": [
    "import pandas as pd \n",
    "import numpy as np\n",
    "import seaborn as sns\n",
    "from numpy import linalg as la\n",
    "from tabulate import tabulate\n",
    "import linearpaneldata as lpd   # simple routines to do linear FE and Pooled OLS regressions\n",
    "import indexmodels  \n",
    "import logit\n",
    "import indexmodels2021            # objective functions etc. for estimation of panel data binary response models\n",
    "import mestim as M              # routines for M-estimation given general sample objective functions\n"
   ]
  },
  {
   "cell_type": "markdown",
   "metadata": {},
   "source": [
    "> ### Opstilling af Nulhypotese og Alternativ Hypotese \n",
    "> Hypotesetesten sigter mod at undersøge, om der er state dependence, dvs. om tidligere fagforeningsmedlemskab påvirker nuværende medlemskab.\n",
    "> **Nulhypotese ($H_0$): Ingen state dependence**\n",
    "> $$H_0 : \\rho = 0$$\n",
    "> Tidligere medlemskab har ingen effekt på sandsynligheden for at være medlem i nuværende periode.\n",
    "> Fagforeningsmedlemskab i t bestemmes udelukkende af kontrolvariablerne $z_{it}$ og den individuelle effekt $c_i$\n",
    "> **Alternativ Hypotese ($H_A$): State dependence eksisterer**\n",
    "> $$H_A : \\rho \\neq 0$$\n",
    "> * Tidligere medlemskab har en signifikant effekt på sandsynligheden for at være medlem i dag.\n",
    "> * Hvis $\\rho > 0$, betyder det, at tidligere medlemskab øger sandsynligheden for fremtidigt medlemskab (positiv afhængighed).\n",
    "> * Hvis $\\rho < 0$, betyder det, at tidligere medlemskab reducerer sandsynligheden for fremtidigt medlemskab (negativ afhængighed).\n"
   ]
  },
  {
   "cell_type": "code",
   "execution_count": 69,
   "metadata": {},
   "outputs": [],
   "source": [
    "# indlæs data\n",
    "dat = pd.read_csv('union.csv')"
   ]
  },
  {
   "cell_type": "code",
   "execution_count": 70,
   "metadata": {},
   "outputs": [
    {
     "data": {
      "text/html": [
       "<div>\n",
       "<style scoped>\n",
       "    .dataframe tbody tr th:only-of-type {\n",
       "        vertical-align: middle;\n",
       "    }\n",
       "\n",
       "    .dataframe tbody tr th {\n",
       "        vertical-align: top;\n",
       "    }\n",
       "\n",
       "    .dataframe thead th {\n",
       "        text-align: right;\n",
       "    }\n",
       "</style>\n",
       "<table border=\"1\" class=\"dataframe\">\n",
       "  <thead>\n",
       "    <tr style=\"text-align: right;\">\n",
       "      <th></th>\n",
       "      <th>nr</th>\n",
       "      <th>year</th>\n",
       "      <th>union</th>\n",
       "      <th>married</th>\n",
       "      <th>educ</th>\n",
       "    </tr>\n",
       "  </thead>\n",
       "  <tbody>\n",
       "    <tr>\n",
       "      <th>600</th>\n",
       "      <td>1190</td>\n",
       "      <td>1980</td>\n",
       "      <td>0</td>\n",
       "      <td>0</td>\n",
       "      <td>12</td>\n",
       "    </tr>\n",
       "    <tr>\n",
       "      <th>883</th>\n",
       "      <td>1961</td>\n",
       "      <td>1983</td>\n",
       "      <td>0</td>\n",
       "      <td>1</td>\n",
       "      <td>12</td>\n",
       "    </tr>\n",
       "    <tr>\n",
       "      <th>3347</th>\n",
       "      <td>8581</td>\n",
       "      <td>1983</td>\n",
       "      <td>0</td>\n",
       "      <td>0</td>\n",
       "      <td>12</td>\n",
       "    </tr>\n",
       "    <tr>\n",
       "      <th>260</th>\n",
       "      <td>684</td>\n",
       "      <td>1984</td>\n",
       "      <td>0</td>\n",
       "      <td>1</td>\n",
       "      <td>12</td>\n",
       "    </tr>\n",
       "    <tr>\n",
       "      <th>1359</th>\n",
       "      <td>2980</td>\n",
       "      <td>1987</td>\n",
       "      <td>0</td>\n",
       "      <td>1</td>\n",
       "      <td>15</td>\n",
       "    </tr>\n",
       "  </tbody>\n",
       "</table>\n",
       "</div>"
      ],
      "text/plain": [
       "        nr  year  union  married  educ\n",
       "600   1190  1980      0        0    12\n",
       "883   1961  1983      0        1    12\n",
       "3347  8581  1983      0        0    12\n",
       "260    684  1984      0        1    12\n",
       "1359  2980  1987      0        1    15"
      ]
     },
     "execution_count": 70,
     "metadata": {},
     "output_type": "execute_result"
    }
   ],
   "source": [
    "dat.sample(5)"
   ]
  },
  {
   "cell_type": "code",
   "execution_count": 71,
   "metadata": {},
   "outputs": [
    {
     "data": {
      "text/plain": [
       "array([1980, 1981, 1982, 1983, 1984, 1985, 1986, 1987])"
      ]
     },
     "execution_count": 71,
     "metadata": {},
     "output_type": "execute_result"
    }
   ],
   "source": [
    "dat.year.unique()"
   ]
  },
  {
   "cell_type": "code",
   "execution_count": 72,
   "metadata": {},
   "outputs": [],
   "source": [
    "df = dat[dat[\"year\"] <= dat[\"year\"].min() + 4].copy()\n"
   ]
  },
  {
   "cell_type": "markdown",
   "metadata": {},
   "source": [
    "# Descriptives"
   ]
  },
  {
   "cell_type": "code",
   "execution_count": 73,
   "metadata": {},
   "outputs": [
    {
     "data": {
      "text/html": [
       "<div>\n",
       "<style scoped>\n",
       "    .dataframe tbody tr th:only-of-type {\n",
       "        vertical-align: middle;\n",
       "    }\n",
       "\n",
       "    .dataframe tbody tr th {\n",
       "        vertical-align: top;\n",
       "    }\n",
       "\n",
       "    .dataframe thead th {\n",
       "        text-align: right;\n",
       "    }\n",
       "</style>\n",
       "<table border=\"1\" class=\"dataframe\">\n",
       "  <thead>\n",
       "    <tr style=\"text-align: right;\">\n",
       "      <th></th>\n",
       "      <th>nr</th>\n",
       "      <th>year</th>\n",
       "      <th>union</th>\n",
       "      <th>married</th>\n",
       "      <th>educ</th>\n",
       "    </tr>\n",
       "  </thead>\n",
       "  <tbody>\n",
       "    <tr>\n",
       "      <th>count</th>\n",
       "      <td>2725.000000</td>\n",
       "      <td>2725.000000</td>\n",
       "      <td>2725.000000</td>\n",
       "      <td>2725.000000</td>\n",
       "      <td>2725.000000</td>\n",
       "    </tr>\n",
       "    <tr>\n",
       "      <th>mean</th>\n",
       "      <td>5262.058716</td>\n",
       "      <td>1982.000000</td>\n",
       "      <td>0.251009</td>\n",
       "      <td>0.355963</td>\n",
       "      <td>11.766972</td>\n",
       "    </tr>\n",
       "    <tr>\n",
       "      <th>std</th>\n",
       "      <td>3496.390456</td>\n",
       "      <td>1.414473</td>\n",
       "      <td>0.433673</td>\n",
       "      <td>0.478892</td>\n",
       "      <td>1.746302</td>\n",
       "    </tr>\n",
       "    <tr>\n",
       "      <th>min</th>\n",
       "      <td>13.000000</td>\n",
       "      <td>1980.000000</td>\n",
       "      <td>0.000000</td>\n",
       "      <td>0.000000</td>\n",
       "      <td>3.000000</td>\n",
       "    </tr>\n",
       "    <tr>\n",
       "      <th>25%</th>\n",
       "      <td>2329.000000</td>\n",
       "      <td>1981.000000</td>\n",
       "      <td>0.000000</td>\n",
       "      <td>0.000000</td>\n",
       "      <td>11.000000</td>\n",
       "    </tr>\n",
       "    <tr>\n",
       "      <th>50%</th>\n",
       "      <td>4569.000000</td>\n",
       "      <td>1982.000000</td>\n",
       "      <td>0.000000</td>\n",
       "      <td>0.000000</td>\n",
       "      <td>12.000000</td>\n",
       "    </tr>\n",
       "    <tr>\n",
       "      <th>75%</th>\n",
       "      <td>8406.000000</td>\n",
       "      <td>1983.000000</td>\n",
       "      <td>1.000000</td>\n",
       "      <td>1.000000</td>\n",
       "      <td>12.000000</td>\n",
       "    </tr>\n",
       "    <tr>\n",
       "      <th>max</th>\n",
       "      <td>12548.000000</td>\n",
       "      <td>1984.000000</td>\n",
       "      <td>1.000000</td>\n",
       "      <td>1.000000</td>\n",
       "      <td>16.000000</td>\n",
       "    </tr>\n",
       "  </tbody>\n",
       "</table>\n",
       "</div>"
      ],
      "text/plain": [
       "                 nr         year        union      married         educ\n",
       "count   2725.000000  2725.000000  2725.000000  2725.000000  2725.000000\n",
       "mean    5262.058716  1982.000000     0.251009     0.355963    11.766972\n",
       "std     3496.390456     1.414473     0.433673     0.478892     1.746302\n",
       "min       13.000000  1980.000000     0.000000     0.000000     3.000000\n",
       "25%     2329.000000  1981.000000     0.000000     0.000000    11.000000\n",
       "50%     4569.000000  1982.000000     0.000000     0.000000    12.000000\n",
       "75%     8406.000000  1983.000000     1.000000     1.000000    12.000000\n",
       "max    12548.000000  1984.000000     1.000000     1.000000    16.000000"
      ]
     },
     "execution_count": 73,
     "metadata": {},
     "output_type": "execute_result"
    }
   ],
   "source": [
    "df.describe()"
   ]
  },
  {
   "cell_type": "code",
   "execution_count": 74,
   "metadata": {},
   "outputs": [
    {
     "data": {
      "image/png": "[encoded data removed]",
      "text/plain": [
       "<Figure size 640x480 with 6 Axes>"
      ]
     },
     "metadata": {},
     "output_type": "display_data"
    }
   ],
   "source": [
    "df[['educ','nr','year','union','married']].hist();"
   ]
  },
  {
   "cell_type": "markdown",
   "metadata": {},
   "source": [
    "# Converting data to numpy format "
   ]
  },
  {
   "cell_type": "markdown",
   "metadata": {},
   "source": [
    "> ### Forstå modellen \n",
    "> \n",
    "> Vi har en dynamisk paneldata-model, hvor afhængige variabel $Union_{it}$ er binær (0 eller 1) \n",
    "> \n",
    "> * $G(*)$ er en link-funktion \n",
    "> * $\\rho \\cdot union_{it-1}$ betyder, at modellen er dynamisk (tidligere fagforeningsmedlemskab påvirker nutidigt medlemskab)\n",
    "> * $c_i$ er en individuel effekt, der kan være FE eller RE\n",
    "> * $z_{it}$ er forklarende variabler (f.eks. $educ_{it}$ og $married_{it}$)\n",
    ">\n",
    ">### Hvordan relaterer det sig til en generel GLM (Generel Lineær Model)?\n",
    ">En GLM er en generalisering af den klassiske lineære regression. Den bruges, når den afhængige variabel ikke nødvendigvis er kontinuert og normalfordelt, men i stedet kan være binær, tælledata, eller en anden type data.\n",
    ">\n",
    "> I GLM-modellen har vi tre vigtige elementer:\n",
    "> * Stokastisk komponent: Beskriver fordelingen af den afhængige variabel Y\n",
    "> * Systematisk komponent: En lineær kombination af forklarende variabler X\n",
    "> * Link-funktion: Forbinder den systematiske komponent med den stokastiske komponent.\n",
    ">\n",
    "> Den generelle form for en GLM er: $$ g(E[Y_i|X_i]) = X_i\\beta $$\n",
    "> ## Hvordan passer din model ind i GLM?\n",
    ">\n",
    ">Din model estimerer sandsynligheden for, at en person er medlem af en fagforening (\\(\\text{union}_{it}\\)), givet tidligere medlemskab og andre >forklarende variabler.  \n",
    ">Den generelle form for din model er:\n",
    ">\n",
    ">$$\n",
    "P(\\text{union}_{it} = 1 | \\text{union}_{i,t-1}, ..., \\text{union}_{i0}, z_{it}, c_i) = G(z_{it} \\gamma + \\rho \\cdot \\text{union}_{i,t-1} + c_i)\n",
    ">$$\n",
    ">\n",
    ">### Hvis vi sammenligner med en GLM:\n",
    "> - Stokastisk komponent: $Y_{it} \\sim \\text{Bernoulli}(p_{it})$ fordi $ Y_{it} $ er binær.\n",
    ">\n",
    ">- Systematisk komponent: $\\eta_{it} = z_{it} \\gamma + \\rho \\cdot \\text{union}_{i,t-1} + c_i$\n",
    ">\n",
    "> - Link-funktion:  \n",
    ">  - Hvis \\( G(x) \\) er en logit-funktion:  \n",
    ">    $$\n",
    "    \\log \\left( \\frac{P(Y=1)}{P(Y=0)} \\right) = z_{it} \\gamma + \\rho \\cdot \\text{union}_{it-1} + c_i\n",
    ">   $$\n",
    "> \n",
    ">   hvilket viser, at den inverse logit-funktion bruges til at beregne sandsynligheder.\n",
    "> * fordel: Gar en pæn odds-fortolkning og hurtigere beregninger\n",
    "> * ulempe Mindre præcis i halerne af fordelingen  \n",
    ">\n",
    ">  * Hvis $G(x)$ er en normalfordelingsfunktion (probit):  \n",
    ">    $$\n",
    "    \\Phi^{-1} (P(Y=1)) = z_{it} \\gamma + \\rho \\cdot \\text{union}_{it-1} + c_i\n",
    ">    $$\n",
    ">    Dette er en probit-GLM.\n",
    "> * Fordel: Passer bedre til data, der følger en normalfordeling\n",
    "> * Beregningsmæssigt tungere\n",
    ">\n",
    "> ### Hvordan passer FE og RE i GLM? \n",
    "> Fixed Effects (FE) Logit: Estimeres med betinget likelihood, hvor vi fjerner $c_i$ ved at betinget på summen af $Y_{it}$\n",
    ">\n",
    "> Random Effects (RE) Logit: Modellerer $c_i$ som en normalfordelt latent effekt, hvilket passer til GLM med hierarkisk struktur.\n",
    ">\n",
    ">\n",
    ">\n",
    "> ### Ud fra GLM kan vi direkte se, at vi skal bruge en logit-model:\n",
    ">\n",
    ">Vores afhængige variabel er binær → GLM kræver en link-funktion.\n",
    "> Logit-link sikrer, at sandsynligheder forbliver mellem 0 og 1 \n",
    "> Logistisk fordeling passer ofte bedre end normalfordeling.\n",
    "> Teoretiske argumenter for logit over probit:\n",
    ">\n",
    "> Logit har en naturlig fortolkning i form af odds-ratioer.\n",
    "> Logit er numerisk mere stabil og hurtigere end probit.\n",
    "> Logistisk fordeling håndterer ekstreme værdier bedre end normalfordelingen.\n",
    "> Valget mellem FE og RE:\n",
    ">\n",
    "> FE logit bruges, hvis vi tror, at $c_i$ er korreleret med $X_{it}$\n",
    "> \n",
    "> RE logit bruges, hvis $c_i$ ikke er korreleret med $X_{it}$\n",
    "> \n",
    "\n"
   ]
  },
  {
   "cell_type": "code",
   "execution_count": 75,
   "metadata": {},
   "outputs": [
    {
     "data": {
      "text/plain": [
       "(2725,)"
      ]
     },
     "execution_count": 75,
     "metadata": {},
     "output_type": "execute_result"
    }
   ],
   "source": [
    "df.union.values.shape"
   ]
  },
  {
   "cell_type": "markdown",
   "metadata": {},
   "source": [
    "> ## Opstil varaiblerne ud fra modellen\n"
   ]
  },
  {
   "cell_type": "code",
   "execution_count": 76,
   "metadata": {},
   "outputs": [
    {
     "name": "stdout",
     "output_type": "stream",
     "text": [
      "         nr  year  union  married  educ  union_lag  c_i\n",
      "1        13  1981      1        0    14        0.0    1\n",
      "2        13  1982      0        0    14        1.0    1\n",
      "3        13  1983      0        0    14        0.0    1\n",
      "4        13  1984      0        0    14        0.0    1\n",
      "9        17  1981      0        0    13        0.0    1\n",
      "...     ...   ...    ...      ...   ...        ...  ...\n",
      "4348  12534  1984      0        1    11        0.0    1\n",
      "4353  12548  1981      0        0     9        0.0    1\n",
      "4354  12548  1982      0        0     9        0.0    1\n",
      "4355  12548  1983      0        1     9        0.0    1\n",
      "4356  12548  1984      1        1     9        0.0    1\n",
      "\n",
      "[2180 rows x 7 columns]\n"
     ]
    }
   ],
   "source": [
    "# Opret lagged værdi af 'union' for hver individ\n",
    "df['union_lag'] = df.groupby('nr')['union'].shift(1)\n",
    "\n",
    "# Fjern første års observationer (som har NaN i `union_lag`)\n",
    "df = df.dropna(subset=['union_lag']).copy()\n",
    "\n",
    "# Tilføj en konstant 1-variabel (hvis nødvendigt)\n",
    "df.loc[:, 'c_i'] = 1  \n",
    "\n",
    "# Tjek om problemet er løst\n",
    "print(df)"
   ]
  },
  {
   "cell_type": "code",
   "execution_count": 77,
   "metadata": {},
   "outputs": [],
   "source": [
    "Nobs, k, n, T, y, x = indexmodels.panel_setup(df, yvar='union', xvar=['union_lag', 'married', 'educ'], groupvar='nr')"
   ]
  },
  {
   "cell_type": "markdown",
   "metadata": {},
   "source": [
    "Pooled Logit "
   ]
  },
  {
   "cell_type": "code",
   "execution_count": 78,
   "metadata": {},
   "outputs": [
    {
     "name": "stdout",
     "output_type": "stream",
     "text": [
      "Pooled logit\n",
      "Dep. var. : union \n",
      "\n",
      "parnames      theta_hat          se    t-values         jac         APE\n",
      "----------  -----------  ----------  ----------  ----------  ----------\n",
      "union_lag       3.11384     0.16199    19.22298    -0.00000     0.37261\n",
      "married         0.08168     0.12747     0.64075     0.00001     0.00977\n",
      "educ           -0.19003     0.00907   -20.96192     0.00003    -0.02274\n",
      "\n",
      "# of groups:      : 545\n",
      "# of observations : 2180\n",
      "# log-likelihood. : -859.6192116556285 \n",
      "\n",
      "Iteration info: 6 iterations, 7 evaluations of objective, and 7 evaluations of gradients\n",
      "Elapsed time: 0.0221 seconds\n",
      "\n"
     ]
    }
   ],
   "source": [
    "result_pooled = indexmodels.pooled(df, yvar='union', xvar=['union_lag', 'married', 'educ'], groupvar='nr', model='logit')"
   ]
  },
  {
   "cell_type": "code",
   "execution_count": 79,
   "metadata": {},
   "outputs": [
    {
     "name": "stdout",
     "output_type": "stream",
     "text": [
      "Negativ log-likelihood (Q_pooled): 1.577282957166291\n"
     ]
    }
   ],
   "source": [
    "beta_init = result_pooled.theta_hat  # Ekstraherer de estimerede parametre\n",
    "\n",
    "log_likelihood = indexmodels.Q_pooled(y, x, T, beta_init, model='logit', out='Q')\n",
    "print(\"Negativ log-likelihood (Q_pooled):\", log_likelihood)\n"
   ]
  },
  {
   "cell_type": "markdown",
   "metadata": {},
   "source": [
    "Random Effects Logit "
   ]
  },
  {
   "cell_type": "code",
   "execution_count": 80,
   "metadata": {},
   "outputs": [
    {
     "name": "stdout",
     "output_type": "stream",
     "text": [
      "Random effects logit\n",
      "Dep. var. : union \n",
      "\n",
      "parnames      theta_hat          se    t-values         jac         APE\n",
      "----------  -----------  ----------  ----------  ----------  ----------\n",
      "union_lag       2.56729     0.24672    10.40548     0.00000     0.27438\n",
      "married         0.08156     0.17086     0.47736     0.00000     0.00872\n",
      "educ           -0.20607     0.01212   -16.99811     0.00000    -0.02202\n",
      "sigma_a         1.34293     0.27702     4.84772     0.00000     0.14352\n",
      "\n",
      "# of groups:      : 545\n",
      "# of observations : 2180\n",
      "# log-likelihood. : -852.021856227748 \n",
      "\n",
      "Iteration info: 22 iterations, 25 evaluations of objective, and 25 evaluations of gradients\n",
      "Elapsed time: 0.1311 seconds\n",
      "\n"
     ]
    }
   ],
   "source": [
    "result_re = indexmodels.rand_effect(df, yvar='union', xvar=['union_lag', 'married', 'educ'], groupvar='nr', model='logit')\n"
   ]
  },
  {
   "cell_type": "code",
   "execution_count": 81,
   "metadata": {},
   "outputs": [
    {
     "name": "stdout",
     "output_type": "stream",
     "text": [
      "Negativ log-likelihood (Q_pooled): 1.5633428554637578\n"
     ]
    }
   ],
   "source": [
    "beta_init1 = result_re.theta_hat  # Ekstraherer de estimerede parametre\n",
    "\n",
    "log_likelihood = indexmodels.Q_RE(y, x, T, beta_init1, model='logit', out='Q')\n",
    "print(\"Negativ log-likelihood (Q_pooled):\", log_likelihood)\n"
   ]
  },
  {
   "cell_type": "markdown",
   "metadata": {},
   "source": [
    "Fixed Effects logit"
   ]
  },
  {
   "cell_type": "code",
   "execution_count": 82,
   "metadata": {},
   "outputs": [
    {
     "ename": "AttributeError",
     "evalue": "module 'indexmodels' has no attribute 'fe_logit_likelihood'",
     "output_type": "error",
     "traceback": [
      "\u001b[0;31m---------------------------------------------------------------------------\u001b[0m",
      "\u001b[0;31mAttributeError\u001b[0m                            Traceback (most recent call last)",
      "Cell \u001b[0;32mIn[82], line 1\u001b[0m\n\u001b[0;32m----> 1\u001b[0m result_fe \u001b[38;5;241m=\u001b[39m \u001b[43mindexmodels\u001b[49m\u001b[38;5;241;43m.\u001b[39;49m\u001b[43mfe_logit_likelihood\u001b[49m(df, yvar\u001b[38;5;241m=\u001b[39m\u001b[38;5;124m'\u001b[39m\u001b[38;5;124munion\u001b[39m\u001b[38;5;124m'\u001b[39m, xvar\u001b[38;5;241m=\u001b[39m[\u001b[38;5;124m'\u001b[39m\u001b[38;5;124munion_lag\u001b[39m\u001b[38;5;124m'\u001b[39m, \u001b[38;5;124m'\u001b[39m\u001b[38;5;124mmarried\u001b[39m\u001b[38;5;124m'\u001b[39m, \u001b[38;5;124m'\u001b[39m\u001b[38;5;124meduc\u001b[39m\u001b[38;5;124m'\u001b[39m], groupvar\u001b[38;5;241m=\u001b[39m\u001b[38;5;124m'\u001b[39m\u001b[38;5;124mnr\u001b[39m\u001b[38;5;124m'\u001b[39m, model\u001b[38;5;241m=\u001b[39m\u001b[38;5;124m'\u001b[39m\u001b[38;5;124mlogit\u001b[39m\u001b[38;5;124m'\u001b[39m)\n",
      "\u001b[0;31mAttributeError\u001b[0m: module 'indexmodels' has no attribute 'fe_logit_likelihood'"
     ]
    }
   ],
   "source": [
    "result_fe = indexmodels.fe_logit_likelihood(df, yvar='union', xvar=['union_lag', 'married', 'educ'], groupvar='nr', model='logit')"
   ]
  },
  {
   "cell_type": "code",
   "execution_count": null,
   "metadata": {},
   "outputs": [
    {
     "name": "stdout",
     "output_type": "stream",
     "text": [
      "['G', 'M', 'Q_RE', 'Q_pooled', '__builtins__', '__cached__', '__doc__', '__file__', '__loader__', '__name__', '__package__', '__spec__', 'addlag', 'g', 'la', 'minimize', 'norm', 'np', 'panel_setup', 'pd', 'plt', 'pooled', 'print_output', 'prodby', 'quad_xw', 'rand_effect', 'random', 'simulate', 'sumby', 'tabulate']\n"
     ]
    }
   ],
   "source": [
    "print(dir(indexmodels))\n"
   ]
  },
  {
   "cell_type": "markdown",
   "metadata": {},
   "source": [
    "Test"
   ]
  }
 ],
 "metadata": {
  "kernelspec": {
   "display_name": ".venv",
   "language": "python",
   "name": "python3"
  },
  "language_info": {
   "codemirror_mode": {
    "name": "ipython",
    "version": 3
   },
   "file_extension": ".py",
   "mimetype": "text/x-python",
   "name": "python",
   "nbconvert_exporter": "python",
   "pygments_lexer": "ipython3",
   "version": "3.9.6"
  }
 },
 "nbformat": 4,
 "nbformat_minor": 4
}
