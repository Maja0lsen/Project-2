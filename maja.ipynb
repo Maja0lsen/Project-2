{
 "cells": [
  {
   "cell_type": "code",
   "execution_count": 45,
   "metadata": {},
   "outputs": [],
   "source": [
    "import pandas as pd\n",
    "import statsmodels.api as sm\n",
    "import statsmodels.formula.api as smf"
   ]
  },
  {
   "cell_type": "code",
   "execution_count": 46,
   "metadata": {},
   "outputs": [],
   "source": [
    "# Load Data\n",
    "df = pd.read_csv(\"union.csv\")"
   ]
  },
  {
   "cell_type": "code",
   "execution_count": 47,
   "metadata": {},
   "outputs": [],
   "source": [
    "# Keep only the first 5 years (1980-1984)\n",
    "df = df[df[\"year\"] <= 1984]"
   ]
  },
  {
   "cell_type": "code",
   "execution_count": 48,
   "metadata": {},
   "outputs": [
    {
     "name": "stdout",
     "output_type": "stream",
     "text": [
      "Optimization terminated successfully.\n",
      "         Current function value: 0.388559\n",
      "         Iterations 6\n",
      "                           Logit Regression Results                           \n",
      "==============================================================================\n",
      "Dep. Variable:                  union   No. Observations:                 2180\n",
      "Model:                          Logit   Df Residuals:                     2176\n",
      "Method:                           MLE   Df Model:                            3\n",
      "Date:                Tue, 11 Mar 2025   Pseudo R-squ.:                  0.3103\n",
      "Time:                        16:40:52   Log-Likelihood:                -847.06\n",
      "converged:                       True   LL-Null:                       -1228.1\n",
      "Covariance Type:            nonrobust   LLR p-value:                7.353e-165\n",
      "==============================================================================\n",
      "                 coef    std err          z      P>|z|      [0.025      0.975]\n",
      "------------------------------------------------------------------------------\n",
      "Intercept     -2.1820      0.453     -4.817      0.000      -3.070      -1.294\n",
      "union_lag      3.1325      0.126     24.822      0.000       2.885       3.380\n",
      "married        0.1648      0.127      1.297      0.195      -0.084       0.414\n",
      "educ          -0.0101      0.038     -0.268      0.789      -0.084       0.064\n",
      "==============================================================================\n",
      "        Logit Marginal Effects       \n",
      "=====================================\n",
      "Dep. Variable:                  union\n",
      "Method:                          dydx\n",
      "At:                              mean\n",
      "==============================================================================\n",
      "                dy/dx    std err          z      P>|z|      [0.025      0.975]\n",
      "------------------------------------------------------------------------------\n",
      "union_lag      0.4824      0.022     21.531      0.000       0.438       0.526\n",
      "married        0.0254      0.020      1.298      0.194      -0.013       0.064\n",
      "educ          -0.0016      0.006     -0.268      0.789      -0.013       0.010\n",
      "==============================================================================\n"
     ]
    }
   ],
   "source": [
    "#Create lagged union membership variable (union_{i,t-1})\n",
    "df[\"union_lag\"] = df.groupby(\"nr\")[\"union\"].shift(1)\n",
    "\n",
    "# Drop first observation for each individual (since union_lag is NaN there)\n",
    "df = df.dropna()\n",
    "\n",
    "# Estimate a logit model for union membership dynamics\n",
    "model = smf.logit(\"union ~ union_lag + married + educ\", data=df).fit()\n",
    "\n",
    "# Display estimation results\n",
    "print(model.summary())\n",
    "\n",
    "# Compute and display average partial effects (APE)\n",
    "margins = model.get_margeff(at=\"mean\")\n",
    "print(margins.summary())"
   ]
  },
  {
   "cell_type": "code",
   "execution_count": 49,
   "metadata": {},
   "outputs": [
    {
     "name": "stdout",
     "output_type": "stream",
     "text": [
      "Optimization terminated successfully.\n",
      "         Current function value: 0.388579\n",
      "         Iterations 6\n",
      "                          Probit Regression Results                           \n",
      "==============================================================================\n",
      "Dep. Variable:                  union   No. Observations:                 2180\n",
      "Model:                         Probit   Df Residuals:                     2176\n",
      "Method:                           MLE   Df Model:                            3\n",
      "Date:                Tue, 11 Mar 2025   Pseudo R-squ.:                  0.3102\n",
      "Time:                        16:40:52   Log-Likelihood:                -847.10\n",
      "converged:                       True   LL-Null:                       -1228.1\n",
      "Covariance Type:            nonrobust   LLR p-value:                7.684e-165\n",
      "==============================================================================\n",
      "                 coef    std err          z      P>|z|      [0.025      0.975]\n",
      "------------------------------------------------------------------------------\n",
      "Intercept     -1.2133      0.245     -4.947      0.000      -1.694      -0.733\n",
      "union_lag      1.8555      0.071     26.120      0.000       1.716       1.995\n",
      "married        0.0825      0.069      1.187      0.235      -0.054       0.219\n",
      "educ          -0.0102      0.021     -0.498      0.618      -0.050       0.030\n",
      "==============================================================================\n",
      " Model  Union_lag (p)  Married (Y1)  Educ (Y2)  Log-Likelihood\n",
      " Logit       3.132478      0.164802  -0.010085     -847.057967\n",
      "Probit       1.855485      0.082464  -0.010222     -847.102126\n"
     ]
    }
   ],
   "source": [
    "# Alternative: Estimate a probit model\n",
    "probit_model = smf.probit(\"union ~ union_lag + married + educ\", data=df).fit()\n",
    "print(probit_model.summary())\n",
    "\n",
    "# Save results in a DataFrame for easy comparison\n",
    "results_df = pd.DataFrame({\n",
    "    \"Model\": [\"Logit\", \"Probit\"],\n",
    "    \"Union_lag (p)\": [model.params[\"union_lag\"], probit_model.params[\"union_lag\"]],\n",
    "    \"Married (Y1)\": [model.params[\"married\"], probit_model.params[\"married\"]],\n",
    "    \"Educ (Y2)\": [model.params[\"educ\"], probit_model.params[\"educ\"]],\n",
    "    \"Log-Likelihood\": [model.llf, probit_model.llf]\n",
    "})\n",
    "\n",
    "# Display the results table\n",
    "print(results_df.to_string(index=False))"
   ]
  }
 ],
 "metadata": {
  "kernelspec": {
   "display_name": ".venv",
   "language": "python",
   "name": "python3"
  },
  "language_info": {
   "codemirror_mode": {
    "name": "ipython",
    "version": 3
   },
   "file_extension": ".py",
   "mimetype": "text/x-python",
   "name": "python",
   "nbconvert_exporter": "python",
   "pygments_lexer": "ipython3",
   "version": "3.9.6"
  }
 },
 "nbformat": 4,
 "nbformat_minor": 2
}
