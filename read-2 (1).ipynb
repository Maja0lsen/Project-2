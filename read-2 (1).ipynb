{
 "cells": [
  {
   "cell_type": "code",
   "execution_count": 230,
   "metadata": {},
   "outputs": [],
   "source": [
    "import pandas as pd \n",
    "import numpy as np\n",
    "import seaborn as sns\n",
    "from numpy import linalg as la\n",
    "from tabulate import tabulate\n",
    "import linearpaneldata as lpd   # simple routines to do linear FE and Pooled OLS regressions\n",
    "import indexmodels              # objective functions etc. for estimation of panel data binary response models\n",
    "import mestim as M              # routines for M-estimation given general sample objective functions\n",
    "from scipy.optimize import minimize\n",
    "from logit import loglikelihood, G  # Importer logit funktioner\n",
    "import LinearModelsPS2_post as lm  # Importer FE estimationsfunktion\n",
    "import scipy.stats\n",
    "from scipy.stats import chi2"
   ]
  },
  {
   "cell_type": "markdown",
   "metadata": {},
   "source": [
    "> ### Opstilling af Nulhypotese og Alternativ Hypotese \n",
    "> Hypotesetesten sigter mod at undersøge, om der er state dependence, dvs. om tidligere fagforeningsmedlemskab påvirker nuværende medlemskab.\n",
    "> **Nulhypotese ($H_0$): Ingen state dependence**\n",
    "> $$H_0 : \\rho = 0$$\n",
    "> Tidligere medlemskab har ingen effekt på sandsynligheden for at være medlem i nuværende periode.\n",
    "> Fagforeningsmedlemskab i t bestemmes udelukkende af kontrolvariablerne $z_{it}$ og den individuelle effekt $c_i$\n",
    "> **Alternativ Hypotese ($H_A$): State dependence eksisterer**\n",
    "> $$H_A : \\rho \\neq 0$$\n",
    "> * Tidligere medlemskab har en signifikant effekt på sandsynligheden for at være medlem i dag.\n",
    "> * Hvis $\\rho > 0$, betyder det, at tidligere medlemskab øger sandsynligheden for fremtidigt medlemskab (positiv afhængighed).\n",
    "> * Hvis $\\rho < 0$, betyder det, at tidligere medlemskab reducerer sandsynligheden for fremtidigt medlemskab (negativ afhængighed).\n"
   ]
  },
  {
   "cell_type": "code",
   "execution_count": 231,
   "metadata": {},
   "outputs": [],
   "source": [
    "# indlæs data\n",
    "dat = pd.read_csv('union.csv')"
   ]
  },
  {
   "cell_type": "code",
   "execution_count": 232,
   "metadata": {},
   "outputs": [
    {
     "data": {
      "text/html": [
       "<div>\n",
       "<style scoped>\n",
       "    .dataframe tbody tr th:only-of-type {\n",
       "        vertical-align: middle;\n",
       "    }\n",
       "\n",
       "    .dataframe tbody tr th {\n",
       "        vertical-align: top;\n",
       "    }\n",
       "\n",
       "    .dataframe thead th {\n",
       "        text-align: right;\n",
       "    }\n",
       "</style>\n",
       "<table border=\"1\" class=\"dataframe\">\n",
       "  <thead>\n",
       "    <tr style=\"text-align: right;\">\n",
       "      <th></th>\n",
       "      <th>nr</th>\n",
       "      <th>year</th>\n",
       "      <th>union</th>\n",
       "      <th>married</th>\n",
       "      <th>educ</th>\n",
       "    </tr>\n",
       "  </thead>\n",
       "  <tbody>\n",
       "    <tr>\n",
       "      <th>3449</th>\n",
       "      <td>8860</td>\n",
       "      <td>1981</td>\n",
       "      <td>1</td>\n",
       "      <td>0</td>\n",
       "      <td>13</td>\n",
       "    </tr>\n",
       "    <tr>\n",
       "      <th>2666</th>\n",
       "      <td>5755</td>\n",
       "      <td>1982</td>\n",
       "      <td>0</td>\n",
       "      <td>1</td>\n",
       "      <td>10</td>\n",
       "    </tr>\n",
       "    <tr>\n",
       "      <th>1533</th>\n",
       "      <td>3219</td>\n",
       "      <td>1985</td>\n",
       "      <td>1</td>\n",
       "      <td>0</td>\n",
       "      <td>11</td>\n",
       "    </tr>\n",
       "    <tr>\n",
       "      <th>3291</th>\n",
       "      <td>8501</td>\n",
       "      <td>1983</td>\n",
       "      <td>1</td>\n",
       "      <td>0</td>\n",
       "      <td>10</td>\n",
       "    </tr>\n",
       "    <tr>\n",
       "      <th>858</th>\n",
       "      <td>1899</td>\n",
       "      <td>1982</td>\n",
       "      <td>0</td>\n",
       "      <td>1</td>\n",
       "      <td>12</td>\n",
       "    </tr>\n",
       "  </tbody>\n",
       "</table>\n",
       "</div>"
      ],
      "text/plain": [
       "        nr  year  union  married  educ\n",
       "3449  8860  1981      1        0    13\n",
       "2666  5755  1982      0        1    10\n",
       "1533  3219  1985      1        0    11\n",
       "3291  8501  1983      1        0    10\n",
       "858   1899  1982      0        1    12"
      ]
     },
     "execution_count": 232,
     "metadata": {},
     "output_type": "execute_result"
    }
   ],
   "source": [
    "dat.sample(5)"
   ]
  },
  {
   "cell_type": "code",
   "execution_count": 233,
   "metadata": {},
   "outputs": [
    {
     "data": {
      "text/plain": [
       "array([1980, 1981, 1982, 1983, 1984, 1985, 1986, 1987])"
      ]
     },
     "execution_count": 233,
     "metadata": {},
     "output_type": "execute_result"
    }
   ],
   "source": [
    "dat.year.unique()"
   ]
  },
  {
   "cell_type": "code",
   "execution_count": 234,
   "metadata": {},
   "outputs": [],
   "source": [
    "df = dat[dat[\"year\"] <= dat[\"year\"].min() + 4].copy()\n"
   ]
  },
  {
   "cell_type": "markdown",
   "metadata": {},
   "source": [
    "# Descriptives"
   ]
  },
  {
   "cell_type": "code",
   "execution_count": 235,
   "metadata": {},
   "outputs": [
    {
     "data": {
      "text/html": [
       "<div>\n",
       "<style scoped>\n",
       "    .dataframe tbody tr th:only-of-type {\n",
       "        vertical-align: middle;\n",
       "    }\n",
       "\n",
       "    .dataframe tbody tr th {\n",
       "        vertical-align: top;\n",
       "    }\n",
       "\n",
       "    .dataframe thead th {\n",
       "        text-align: right;\n",
       "    }\n",
       "</style>\n",
       "<table border=\"1\" class=\"dataframe\">\n",
       "  <thead>\n",
       "    <tr style=\"text-align: right;\">\n",
       "      <th></th>\n",
       "      <th>nr</th>\n",
       "      <th>year</th>\n",
       "      <th>union</th>\n",
       "      <th>married</th>\n",
       "      <th>educ</th>\n",
       "    </tr>\n",
       "  </thead>\n",
       "  <tbody>\n",
       "    <tr>\n",
       "      <th>count</th>\n",
       "      <td>2725.000000</td>\n",
       "      <td>2725.000000</td>\n",
       "      <td>2725.000000</td>\n",
       "      <td>2725.000000</td>\n",
       "      <td>2725.000000</td>\n",
       "    </tr>\n",
       "    <tr>\n",
       "      <th>mean</th>\n",
       "      <td>5262.058716</td>\n",
       "      <td>1982.000000</td>\n",
       "      <td>0.251009</td>\n",
       "      <td>0.355963</td>\n",
       "      <td>11.766972</td>\n",
       "    </tr>\n",
       "    <tr>\n",
       "      <th>std</th>\n",
       "      <td>3496.390456</td>\n",
       "      <td>1.414473</td>\n",
       "      <td>0.433673</td>\n",
       "      <td>0.478892</td>\n",
       "      <td>1.746302</td>\n",
       "    </tr>\n",
       "    <tr>\n",
       "      <th>min</th>\n",
       "      <td>13.000000</td>\n",
       "      <td>1980.000000</td>\n",
       "      <td>0.000000</td>\n",
       "      <td>0.000000</td>\n",
       "      <td>3.000000</td>\n",
       "    </tr>\n",
       "    <tr>\n",
       "      <th>25%</th>\n",
       "      <td>2329.000000</td>\n",
       "      <td>1981.000000</td>\n",
       "      <td>0.000000</td>\n",
       "      <td>0.000000</td>\n",
       "      <td>11.000000</td>\n",
       "    </tr>\n",
       "    <tr>\n",
       "      <th>50%</th>\n",
       "      <td>4569.000000</td>\n",
       "      <td>1982.000000</td>\n",
       "      <td>0.000000</td>\n",
       "      <td>0.000000</td>\n",
       "      <td>12.000000</td>\n",
       "    </tr>\n",
       "    <tr>\n",
       "      <th>75%</th>\n",
       "      <td>8406.000000</td>\n",
       "      <td>1983.000000</td>\n",
       "      <td>1.000000</td>\n",
       "      <td>1.000000</td>\n",
       "      <td>12.000000</td>\n",
       "    </tr>\n",
       "    <tr>\n",
       "      <th>max</th>\n",
       "      <td>12548.000000</td>\n",
       "      <td>1984.000000</td>\n",
       "      <td>1.000000</td>\n",
       "      <td>1.000000</td>\n",
       "      <td>16.000000</td>\n",
       "    </tr>\n",
       "  </tbody>\n",
       "</table>\n",
       "</div>"
      ],
      "text/plain": [
       "                 nr         year        union      married         educ\n",
       "count   2725.000000  2725.000000  2725.000000  2725.000000  2725.000000\n",
       "mean    5262.058716  1982.000000     0.251009     0.355963    11.766972\n",
       "std     3496.390456     1.414473     0.433673     0.478892     1.746302\n",
       "min       13.000000  1980.000000     0.000000     0.000000     3.000000\n",
       "25%     2329.000000  1981.000000     0.000000     0.000000    11.000000\n",
       "50%     4569.000000  1982.000000     0.000000     0.000000    12.000000\n",
       "75%     8406.000000  1983.000000     1.000000     1.000000    12.000000\n",
       "max    12548.000000  1984.000000     1.000000     1.000000    16.000000"
      ]
     },
     "execution_count": 235,
     "metadata": {},
     "output_type": "execute_result"
    }
   ],
   "source": [
    "df.describe()"
   ]
  },
  {
   "cell_type": "code",
   "execution_count": 236,
   "metadata": {},
   "outputs": [
    {
     "data": {
      "image/png": "[encoded data removed]",
      "text/plain": [
       "<Figure size 640x480 with 6 Axes>"
      ]
     },
     "metadata": {},
     "output_type": "display_data"
    }
   ],
   "source": [
    "df[['educ','nr','year','union','married']].hist();"
   ]
  },
  {
   "cell_type": "markdown",
   "metadata": {},
   "source": [
    "# Converting data to numpy format "
   ]
  },
  {
   "cell_type": "markdown",
   "metadata": {},
   "source": [
    "> ### Forstå modellen \n",
    "> \n",
    "> Vi har en dynamisk paneldata-model, hvor afhængige variabel $Union_{it}$ er binær (0 eller 1) \n",
    "> \n",
    "> * $G(*)$ er en link-funktion \n",
    "> * $\\rho \\cdot union_{it-1}$ betyder, at modellen er dynamisk (tidligere fagforeningsmedlemskab påvirker nutidigt medlemskab)\n",
    "> * $c_i$ er en individuel effekt, der kan være FE eller RE\n",
    "> * $z_{it}$ er forklarende variabler (f.eks. $educ_{it}$ og $married_{it}$)\n",
    ">\n",
    ">### Hvordan relaterer det sig til en generel GLM (Generel Lineær Model)?\n",
    ">En GLM er en generalisering af den klassiske lineære regression. Den bruges, når den afhængige variabel ikke nødvendigvis er kontinuert og normalfordelt, men i stedet kan være binær, tælledata, eller en anden type data.\n",
    ">\n",
    "> I GLM-modellen har vi tre vigtige elementer:\n",
    "> * Stokastisk komponent: Beskriver fordelingen af den afhængige variabel Y\n",
    "> * Systematisk komponent: En lineær kombination af forklarende variabler X\n",
    "> * Link-funktion: Forbinder den systematiske komponent med den stokastiske komponent.\n",
    ">\n",
    "> Den generelle form for en GLM er: $$ g(E[Y_i|X_i]) = X_i\\beta $$\n",
    "> ## Hvordan passer din model ind i GLM?\n",
    ">\n",
    ">Din model estimerer sandsynligheden for, at en person er medlem af en fagforening (\\(\\text{union}_{it}\\)), givet tidligere medlemskab og andre >forklarende variabler.  \n",
    ">Den generelle form for din model er:\n",
    ">\n",
    ">$$\n",
    "P(\\text{union}_{it} = 1 | \\text{union}_{i,t-1}, ..., \\text{union}_{i0}, z_{it}, c_i) = G(z_{it} \\gamma + \\rho \\cdot \\text{union}_{i,t-1} + c_i)\n",
    ">$$\n",
    ">\n",
    ">### Hvis vi sammenligner med en GLM:\n",
    "> - Stokastisk komponent: $Y_{it} \\sim \\text{Bernoulli}(p_{it})$ fordi $ Y_{it} $ er binær.\n",
    ">\n",
    ">- Systematisk komponent: $\\eta_{it} = z_{it} \\gamma + \\rho \\cdot \\text{union}_{i,t-1} + c_i$\n",
    ">\n",
    "> - Link-funktion:  \n",
    ">  - Hvis \\( G(x) \\) er en logit-funktion:  \n",
    ">    $$\n",
    "    \\log \\left( \\frac{P(Y=1)}{P(Y=0)} \\right) = z_{it} \\gamma + \\rho \\cdot \\text{union}_{it-1} + c_i\n",
    ">   $$\n",
    "> \n",
    ">   hvilket viser, at den inverse logit-funktion bruges til at beregne sandsynligheder.\n",
    "> * fordel: Gar en pæn odds-fortolkning og hurtigere beregninger\n",
    "> * ulempe Mindre præcis i halerne af fordelingen  \n",
    ">\n",
    ">  * Hvis $G(x)$ er en normalfordelingsfunktion (probit):  \n",
    ">    $$\n",
    "    \\Phi^{-1} (P(Y=1)) = z_{it} \\gamma + \\rho \\cdot \\text{union}_{it-1} + c_i\n",
    ">    $$\n",
    ">    Dette er en probit-GLM.\n",
    "> * Fordel: Passer bedre til data, der følger en normalfordeling\n",
    "> * Beregningsmæssigt tungere\n",
    ">\n",
    "> ### Hvordan passer FE og RE i GLM? \n",
    "> Fixed Effects (FE) Logit: Estimeres med betinget likelihood, hvor vi fjerner $c_i$ ved at betinget på summen af $Y_{it}$\n",
    ">\n",
    "> Random Effects (RE) Logit: Modellerer $c_i$ som en normalfordelt latent effekt, hvilket passer til GLM med hierarkisk struktur.\n",
    ">\n",
    ">\n",
    ">\n",
    "> ### Ud fra GLM kan vi direkte se, at vi skal bruge en logit-model:\n",
    ">\n",
    ">Vores afhængige variabel er binær → GLM kræver en link-funktion.\n",
    "> Logit-link sikrer, at sandsynligheder forbliver mellem 0 og 1 \n",
    "> Logistisk fordeling passer ofte bedre end normalfordeling.\n",
    "> Teoretiske argumenter for logit over probit:\n",
    ">\n",
    "> Logit har en naturlig fortolkning i form af odds-ratioer.\n",
    "> Logit er numerisk mere stabil og hurtigere end probit.\n",
    "> Logistisk fordeling håndterer ekstreme værdier bedre end normalfordelingen.\n",
    "> Valget mellem FE og RE:\n",
    ">\n",
    "> FE logit bruges, hvis vi tror, at $c_i$ er korreleret med $X_{it}$\n",
    "> \n",
    "> RE logit bruges, hvis $c_i$ ikke er korreleret med $X_{it}$\n",
    "> \n",
    "\n"
   ]
  },
  {
   "cell_type": "code",
   "execution_count": 237,
   "metadata": {},
   "outputs": [
    {
     "data": {
      "text/plain": [
       "(2725,)"
      ]
     },
     "execution_count": 237,
     "metadata": {},
     "output_type": "execute_result"
    }
   ],
   "source": [
    "df.union.values.shape"
   ]
  },
  {
   "cell_type": "markdown",
   "metadata": {},
   "source": [
    "> ## Opstil varaiblerne ud fra modellen\n"
   ]
  },
  {
   "cell_type": "code",
   "execution_count": 238,
   "metadata": {},
   "outputs": [
    {
     "name": "stdout",
     "output_type": "stream",
     "text": [
      "         nr  year  union  married  educ  union_lag  c_i\n",
      "1        13  1981      1        0    14        0.0    1\n",
      "2        13  1982      0        0    14        1.0    1\n",
      "3        13  1983      0        0    14        0.0    1\n",
      "4        13  1984      0        0    14        0.0    1\n",
      "9        17  1981      0        0    13        0.0    1\n",
      "...     ...   ...    ...      ...   ...        ...  ...\n",
      "4348  12534  1984      0        1    11        0.0    1\n",
      "4353  12548  1981      0        0     9        0.0    1\n",
      "4354  12548  1982      0        0     9        0.0    1\n",
      "4355  12548  1983      0        1     9        0.0    1\n",
      "4356  12548  1984      1        1     9        0.0    1\n",
      "\n",
      "[2180 rows x 7 columns]\n"
     ]
    }
   ],
   "source": [
    "# Opret lagged værdi af 'union' for hver individ\n",
    "df['union_lag'] = df.groupby('nr')['union'].shift(1)\n",
    "\n",
    "# Fjern første års observationer (som har NaN i `union_lag`)\n",
    "df = df.dropna(subset=['union_lag']).copy()\n",
    "\n",
    "# Tilføj en konstant 1-variabel (hvis nødvendigt)\n",
    "df.loc[:, 'c_i'] = 1  \n",
    "\n",
    "# Tjek om problemet er løst\n",
    "print(df)"
   ]
  },
  {
   "cell_type": "code",
   "execution_count": 239,
   "metadata": {},
   "outputs": [],
   "source": [
    "Nobs, k, n, T, y, x = indexmodels.panel_setup(df, yvar='union', xvar=['union_lag', 'married', 'educ'], groupvar='nr')"
   ]
  },
  {
   "cell_type": "markdown",
   "metadata": {},
   "source": [
    "Pooled Logit "
   ]
  },
  {
   "cell_type": "code",
   "execution_count": 240,
   "metadata": {},
   "outputs": [
    {
     "name": "stdout",
     "output_type": "stream",
     "text": [
      "Pooled logit\n",
      "Dep. var. : union \n",
      "\n",
      "parnames      theta_hat          se    t-values         jac         APE\n",
      "----------  -----------  ----------  ----------  ----------  ----------\n",
      "union_lag       3.11384     0.16199    19.22298    -0.00000     0.37261\n",
      "married         0.08168     0.12747     0.64075     0.00001     0.00977\n",
      "educ           -0.19003     0.00907   -20.96192     0.00003    -0.02274\n",
      "\n",
      "# of groups:      : 545\n",
      "# of observations : 2180\n",
      "# log-likelihood. : -859.6192116556285 \n",
      "\n",
      "Iteration info: 6 iterations, 7 evaluations of objective, and 7 evaluations of gradients\n",
      "Elapsed time: 0.1132 seconds\n",
      "\n"
     ]
    }
   ],
   "source": [
    "result_pooled = indexmodels.pooled(df, yvar='union', xvar=['union_lag', 'married', 'educ'], groupvar='nr', model='logit')"
   ]
  },
  {
   "cell_type": "code",
   "execution_count": 241,
   "metadata": {},
   "outputs": [
    {
     "name": "stdout",
     "output_type": "stream",
     "text": [
      "Negativ log-likelihood (Q_pooled): 1.577282957166291\n"
     ]
    }
   ],
   "source": [
    "beta_init = result_pooled.theta_hat  # Ekstraherer de estimerede parametre\n",
    "\n",
    "log_likelihood = indexmodels.Q_pooled(y, x, T, beta_init, model='logit', out='Q')\n",
    "print(\"Negativ log-likelihood (Q_pooled):\", log_likelihood)\n"
   ]
  },
  {
   "cell_type": "markdown",
   "metadata": {},
   "source": [
    "pooled Probit"
   ]
  },
  {
   "cell_type": "code",
   "execution_count": 242,
   "metadata": {},
   "outputs": [
    {
     "name": "stdout",
     "output_type": "stream",
     "text": [
      "Pooled probit\n",
      "Dep. var. : union \n",
      "\n",
      "parnames      theta_hat          se    t-values         jac         APE\n",
      "----------  -----------  ----------  ----------  ----------  ----------\n",
      "union_lag       1.83571     0.09101    20.17144     0.00000     0.39981\n",
      "married         0.03792     0.07017     0.54036     0.00000     0.00826\n",
      "educ           -0.11025     0.00467   -23.59303     0.00002    -0.02401\n",
      "\n",
      "# of groups:      : 545\n",
      "# of observations : 2180\n",
      "# log-likelihood. : -859.8837903761435 \n",
      "\n",
      "Iteration info: 8 iterations, 9 evaluations of objective, and 9 evaluations of gradients\n",
      "Elapsed time: 0.1403 seconds\n",
      "\n"
     ]
    }
   ],
   "source": [
    "result_pooled = indexmodels.pooled(df, yvar='union', xvar=['union_lag', 'married', 'educ'], groupvar='nr', model='probit')"
   ]
  },
  {
   "cell_type": "markdown",
   "metadata": {},
   "source": [
    "Random Effects Logit "
   ]
  },
  {
   "cell_type": "code",
   "execution_count": 243,
   "metadata": {},
   "outputs": [
    {
     "name": "stdout",
     "output_type": "stream",
     "text": [
      "Random effects logit\n",
      "Dep. var. : union \n",
      "\n",
      "parnames      theta_hat          se    t-values         jac         APE\n",
      "----------  -----------  ----------  ----------  ----------  ----------\n",
      "union_lag       2.56729     0.24672    10.40548     0.00000     0.27438\n",
      "married         0.08156     0.17086     0.47736     0.00000     0.00872\n",
      "educ           -0.20607     0.01212   -16.99811     0.00000    -0.02202\n",
      "sigma_a         1.34293     0.27702     4.84772     0.00000     0.14352\n",
      "\n",
      "# of groups:      : 545\n",
      "# of observations : 2180\n",
      "# log-likelihood. : -852.0218562277482 \n",
      "\n",
      "Iteration info: 22 iterations, 25 evaluations of objective, and 25 evaluations of gradients\n",
      "Elapsed time: 0.6508 seconds\n",
      "\n",
      "Wald test statistic: 108.274\n",
      "p-value: 0.000\n",
      "==> Vi afviser H0: Der er signifikant state dependence (ρ ≠ 0).\n"
     ]
    }
   ],
   "source": [
    "Logit_RE = indexmodels.rand_effect(df, yvar='union', xvar=['union_lag', 'married', 'educ'], groupvar='nr', model='logit')\n",
    "\n",
    "# Hent estimerede parametre og kovariansmatrix\n",
    "theta_RE = Logit_RE[\"theta_hat\"]  # Estimerede koefficienter\n",
    "Cov_m_RE = Logit_RE[\"cov\"]  # Kovariansmatrix\n",
    "\n",
    "# Wald test for H0: ρ = 0 (tester kun 'union_lag')\n",
    "C_RE = np.array([[1 if var == 'union_lag' else 0 for var in ['union_lag', 'married', 'educ','sigma_a']]])\n",
    "\n",
    "# Beregn Wald-teststatistik\n",
    "W_RE = (C_RE @ theta_RE).T\n",
    "Sigma_RE = C_RE @ Cov_m_RE @ C_RE.T\n",
    "\n",
    "# Brug pseudo-invers for at undgå matrix-inversionsfejl\n",
    "Sigma_inv_RE = np.linalg.pinv(Sigma_RE)\n",
    "\n",
    "Wald_RE = W_RE @ Sigma_inv_RE @ W_RE\n",
    "\n",
    "# Beregn p-værdi\n",
    "P_val_RE = 1 - scipy.stats.chi2.cdf(Wald_RE.squeeze(), df=1)\n",
    "\n",
    "# Print resultater\n",
    "print(f\"Wald test statistic: {Wald_RE.squeeze():.3f}\")\n",
    "print(f\"p-value: {P_val_RE:.3f}\")\n",
    "\n",
    "# Konklusion\n",
    "if P_val_RE < 0.05:\n",
    "    print(\"==> Vi afviser H0: Der er signifikant state dependence (ρ ≠ 0).\")\n",
    "else:\n",
    "    print(\"==> Vi kan IKKE afvise H0: Ingen signifikant state dependence (ρ = 0).\")\n",
    "\n"
   ]
  },
  {
   "cell_type": "code",
   "execution_count": 244,
   "metadata": {},
   "outputs": [
    {
     "name": "stdout",
     "output_type": "stream",
     "text": [
      "Negativ log-likelihood (Q_pooled): 1.5633428554637583\n"
     ]
    }
   ],
   "source": [
    "beta_init1 = result_re.theta_hat  # Ekstraherer de estimerede parametre\n",
    "\n",
    "log_likelihood = indexmodels.Q_RE(y, x, T, beta_init1, model='logit', out='Q')\n",
    "print(\"Negativ log-likelihood (Q_pooled):\", log_likelihood)\n"
   ]
  },
  {
   "cell_type": "markdown",
   "metadata": {},
   "source": [
    "Re probit"
   ]
  },
  {
   "cell_type": "code",
   "execution_count": 245,
   "metadata": {},
   "outputs": [
    {
     "name": "stdout",
     "output_type": "stream",
     "text": [
      "dict_keys(['fun', 'jac', 'hess_inv', 'nfev', 'njev', 'status', 'success', 'message', 'x', 'nit', 'parnames', 'theta_hat', 'se', 't-values', 'cov', 'Q', 'time', 's_i', 'sigma_a', 'yvar', 'xvar', 'Nobs', 'k', 'n', 'T', 'APE'])\n"
     ]
    }
   ],
   "source": [
    "print(Probit_RE.keys())  # Efter du har kørt rand_effect()\n"
   ]
  },
  {
   "cell_type": "code",
   "execution_count": 246,
   "metadata": {},
   "outputs": [
    {
     "name": "stdout",
     "output_type": "stream",
     "text": [
      "Random effects probit\n",
      "Dep. var. : union \n",
      "\n",
      "parnames      theta_hat          se    t-values         jac         APE\n",
      "----------  -----------  ----------  ----------  ----------  ----------\n",
      "union_lag       1.47763     0.15021     9.83716     0.00000     0.31087\n",
      "married         0.03735     0.09489     0.39363    -0.00000     0.00786\n",
      "educ           -0.11748     0.00645   -18.20399     0.00000    -0.02472\n",
      "sigma_a         0.75980     0.16411     4.62982     0.00000     0.15985\n",
      "\n",
      "# of groups:      : 545\n",
      "# of observations : 2180\n",
      "# log-likelihood. : -852.4439678822002 \n",
      "\n",
      "Iteration info: 19 iterations, 21 evaluations of objective, and 21 evaluations of gradients\n",
      "Elapsed time: 0.7226 seconds\n",
      "\n",
      "Wald test statistic: 96.770\n",
      "p-value: 0.000\n",
      "==> Vi afviser H0: Der er signifikant state dependence (ρ ≠ 0).\n"
     ]
    }
   ],
   "source": [
    "# Estimer Random Effects Probit\n",
    "Probit_RE = indexmodels.rand_effect(df, yvar='union', xvar=['union_lag', 'married', 'educ'], groupvar='nr', model='probit')\n",
    "\n",
    "# Hent estimerede parametre og kovariansmatrix\n",
    "theta_RE = Probit_RE[\"theta_hat\"]  # Estimerede koefficienter\n",
    "Cov_m_RE = Probit_RE[\"cov\"]  # Kovariansmatrix\n",
    "\n",
    "# Wald test for H0: ρ = 0 (tester kun 'union_lag')\n",
    "C_RE = np.array([[1 if var == 'union_lag' else 0 for var in ['union_lag', 'married', 'educ','sigma_a']]])\n",
    "\n",
    "# Beregn Wald-teststatistik\n",
    "W_RE = (C_RE @ theta_RE).T\n",
    "Sigma_RE = C_RE @ Cov_m_RE @ C_RE.T\n",
    "\n",
    "# Brug pseudo-invers for at undgå matrix-inversionsfejl\n",
    "Sigma_inv_RE = np.linalg.pinv(Sigma_RE)\n",
    "\n",
    "Wald_RE = W_RE @ Sigma_inv_RE @ W_RE\n",
    "\n",
    "# Beregn p-værdi\n",
    "P_val_RE = 1 - scipy.stats.chi2.cdf(Wald_RE.squeeze(), df=1)\n",
    "\n",
    "# Print resultater\n",
    "print(f\"Wald test statistic: {Wald_RE.squeeze():.3f}\")\n",
    "print(f\"p-value: {P_val_RE:.3f}\")\n",
    "\n",
    "# Konklusion\n",
    "if P_val_RE < 0.05:\n",
    "    print(\"==> Vi afviser H0: Der er signifikant state dependence (ρ ≠ 0).\")\n",
    "else:\n",
    "    print(\"==> Vi kan IKKE afvise H0: Ingen signifikant state dependence (ρ = 0).\")\n"
   ]
  },
  {
   "cell_type": "markdown",
   "metadata": {},
   "source": [
    "### Fixed Effects Logit\n",
    "\n",
    "**The trick:**\n",
    "- Model the joint distribution of $y_{i}$ conditional on $x_{i}$, $c_{i}$ *and* $n_{i}=\\sum_{t}y_{it}$\n",
    "- In the logit model, it turns out that this does not depend on $c_{i}.$\n",
    "- For $T=2$ we have\n",
    "\\begin{align*}\n",
    "P\\left( y_{i2}=1|x_{i},c_{i},n_{i}=1\\right) &=\\Lambda \\left( \\left(x_{i2}-x_{i1}\\right) \\beta \\right) \\\\\n",
    "P\\left( y_{i1}=1|x_{i},c_{i},n_{i}=1\\right) &=1-\\Lambda \\left( \\left(\n",
    "x_{i2}-x_{i1}\\right) \\beta \\right) \n",
    "\\end{align*}\n",
    "\n",
    "$$\n",
    "l_{i}\\left( \\beta \\right) =\\left(n_{i}=1\\right) \\left \\{ \n",
    "\\begin{array}{c} \n",
    "w_{i}\\Lambda \\left( \\left( x_{i2}-x_{i1}\\right) \\beta \\right) + \\\\ \n",
    "\\left( 1-w_{i}\\right) \\left( 1-\\Lambda \\left( \\left( x_{i2}-x_{i1}\\right) \\beta \\right) \\right)\n",
    "\\end{array}\n",
    "\\right \\} \n",
    "$$\n",
    "- NOTE: We cannot use this trick eliminate $c_{i}$ in the probit model\n",
    "\n",
    "### Fixed Effects Logit: Identification\n",
    "Identification:\n",
    "- Conditional distribution of $y_{it}$ is not informative about $\\beta $, when $n_{i}=0$ or $n_{i}=T$ \n",
    "(since $n_{i}=0$ and $n_{i}=2$ perfectly predict $y_{it}$)\n",
    "- We therefore need time-series variation in $y_{it}$ to identify $\\beta $\n",
    "\n",
    "**Identified objects**\n",
    "- We can identify $\\beta$ (up to scale) and obtain the effect on the log-odd ratio:\n",
    "$$\n",
    "\\ln \\left[ \\frac{\\left( \\Lambda \\left( x_{t}^{\\prime }\\beta \\right) \\right) \n",
    "}{\\left( 1-\\Lambda \\left( x_{t}^{\\prime }\\beta \\right) \\right) }\\right] = x_{t}^{\\prime }\\beta +c%\n",
    "$$\n",
    "\n",
    "**Unidentified objects**\n",
    "- Partial effects cannot be estimated unless we assume *value* of $c$\n",
    "- $APE$ can't be estimated - since we do not assume *distribution* of $c$"
   ]
  },
  {
   "cell_type": "code",
   "execution_count": 247,
   "metadata": {},
   "outputs": [
    {
     "name": "stdout",
     "output_type": "stream",
     "text": [
      "   nr  year  union  married  educ  union_lag  c_i\n",
      "1  13  1981      1      0.0    14      -0.25    1\n",
      "2  13  1982      0      0.0    14       0.75    1\n",
      "3  13  1983      0      0.0    14      -0.25    1\n",
      "4  13  1984      0      0.0    14      -0.25    1\n",
      "9  17  1981      0      0.0    13       0.00    1\n"
     ]
    }
   ],
   "source": [
    "# Antag at df allerede er et pandas DataFrame\n",
    "# y_it: Binær afhængig variabel (forbliver uændret)\n",
    "y_it = ['union']\n",
    "\n",
    "# x_it: Tidsvarierende forklarende variabler (transformeres)\n",
    "x_it = ['union_lag', 'married']\n",
    "\n",
    "# x_t: Tidsdummyer (bevares)\n",
    "x_t = [col for col in df.columns if 'year_' in col]\n",
    "\n",
    "# x_i: Tidkonstante forklarende variabler (bruges IKKE i FE)\n",
    "x_i = ['educ']\n",
    "\n",
    "# groupvar: Enheds-ID (f.eks. individnummer)\n",
    "groupvar = 'nr'\n",
    "\n",
    "# Antal tidsperioder per individ\n",
    "T = df['year'].nunique()\n",
    "\n",
    "# Opret kopi af datasættet for transformation\n",
    "df_transformed = df.copy()\n",
    "\n",
    "# Apply within-transformation (demeaning) for de tidsvarierende variabler\n",
    "for var in x_it:\n",
    "    df_transformed[var] = df[var] - df.groupby(groupvar)[var].transform('mean')\n",
    "\n",
    "# Sørg for, at y_it (afhængig variabel) forbliver uændret\n",
    "df_transformed[y_it] = df[y_it]  # Bevarer original værdier for union\n",
    "\n",
    "# Tilføj tidsdummyer (hvis de er nødvendige i regressionen)\n",
    "df_transformed[x_t] = df[x_t]  # Bevarer tidsdummyer\n",
    "\n",
    "# Kontroller det transformerede datasæt\n",
    "print(df_transformed.head())\n"
   ]
  },
  {
   "cell_type": "code",
   "execution_count": 248,
   "metadata": {},
   "outputs": [
    {
     "name": "stdout",
     "output_type": "stream",
     "text": [
      "dict_keys(['x', 'success', 'status', 'fun', 'jac', 'nfev', 'njev', 'nhev', 'nit', 'message', 'hess', 'hess_inv', 'parnames', 'theta_hat', 'se', 't-values', 'cov', 'Q', 'time', 's_i', 'yvar', 'xvar', 'Nobs', 'k', 'n', 'T', 'APE'])\n"
     ]
    }
   ],
   "source": [
    "print(Logit_FE.keys())"
   ]
  },
  {
   "cell_type": "code",
   "execution_count": 249,
   "metadata": {},
   "outputs": [
    {
     "name": "stdout",
     "output_type": "stream",
     "text": [
      "Pooled logit\n",
      "Dep. var. : union \n",
      "\n",
      "parnames      theta_hat          se    t-values         jac         APE\n",
      "----------  -----------  ----------  ----------  ----------  ----------\n",
      "union_lag      -0.38120     0.17833    -2.13757     0.00000    -0.07194\n",
      "married        -0.07490     0.13777    -0.54368     0.00000    -0.01414\n",
      "educ           -0.09176     0.00708   -12.95250     0.00002    -0.01732\n",
      "\n",
      "# of groups:      : 545\n",
      "# of observations : 2180\n",
      "# log-likelihood. : -1230.6268324143316 \n",
      "\n",
      "Iteration info: 5 iterations, 6 evaluations of objective, and 6 evaluations of gradients\n",
      "Elapsed time: 0.0808 seconds\n",
      "\n",
      "Wald test statistic: 4.569\n",
      "p-value: 0.033\n",
      "==> Vi afviser H0: Der er signifikant state dependence (ρ ≠ 0).\n"
     ]
    }
   ],
   "source": [
    "\n",
    "\n",
    "# Estimer Fixed Effects Logit\n",
    "Logit_FE = indexmodels.pooled(df_transformed, yvar='union', xvar=x_it + x_t + x_i, groupvar='nr', model='logit')\n",
    "\n",
    "# Wald test for H0: ρ = 0 \n",
    "C_FE = np.array([[1 if var == 'union_lag' else 0 for var in x_it + x_t + x_i]])  # Sikrer at vi kun tester union_lag\n",
    "\n",
    "# Beregn Wald-teststatistik\n",
    "W = (C_FE @ Logit_FE[\"theta_hat\"]).T\n",
    "Sigma = C_FE @ Logit_FE[\"cov\"] @ C_FE.T\n",
    "\n",
    "# Brug pseudo-invers for at undgå matrix-inversionsfejl\n",
    "Sigma_inv = np.linalg.pinv(Sigma)  # Brug pseudo-invers i stedet for np.linalg.inv()\n",
    "\n",
    "Wald_FE = W @ Sigma_inv @ W\n",
    "\n",
    "# Beregn p-værdi\n",
    "P_val_FE = 1 - scipy.stats.chi2.cdf(Wald_FE.squeeze(), df=1)\n",
    "\n",
    "# Print resultater\n",
    "print(f\"Wald test statistic: {Wald_FE.squeeze():.3f}\")\n",
    "print(f\"p-value: {P_val_FE:.3f}\")\n",
    "\n",
    "# Konklusion\n",
    "if P_val_FE < 0.05:\n",
    "    print(\"==> Vi afviser H0: Der er signifikant state dependence (ρ ≠ 0).\")\n",
    "else:\n",
    "    print(\"==> Vi kan IKKE afvise H0: Ingen signifikant state dependence (ρ = 0).\")\n"
   ]
  },
  {
   "cell_type": "code",
   "execution_count": 250,
   "metadata": {},
   "outputs": [
    {
     "name": "stdout",
     "output_type": "stream",
     "text": [
      "Pooled probit\n",
      "Dep. var. : union \n",
      "\n",
      "parnames      theta_hat          se    t-values         jac         APE\n",
      "----------  -----------  ----------  ----------  ----------  ----------\n",
      "union_lag      -0.20913     0.10470    -1.99746    -0.00002    -0.06677\n",
      "married        -0.04609     0.08135    -0.56657     0.00001    -0.01472\n",
      "educ           -0.05625     0.00416   -13.50759    -0.00004    -0.01796\n",
      "\n",
      "# of groups:      : 545\n",
      "# of observations : 2180\n",
      "# log-likelihood. : -1230.7434961774748 \n",
      "\n",
      "Iteration info: 6 iterations, 7 evaluations of objective, and 7 evaluations of gradients\n",
      "Elapsed time: 0.1077 seconds\n",
      "\n",
      "Wald test statistic: 3.990\n",
      "p-value: 0.046\n",
      "==> Vi afviser H0: Der er signifikant state dependence (ρ ≠ 0).\n"
     ]
    }
   ],
   "source": [
    "\n",
    "\n",
    "# Fixed Effects Probit\n",
    "Probit_FE = indexmodels.pooled(df_transformed, yvar='union', xvar=x_it + x_t + x_i, groupvar='nr', model='probit')\n",
    "\n",
    "# Wald test for H0: ρ = 0 \n",
    "C_FE = np.array([[1 if var == 'union_lag' else 0 for var in x_it + x_t + x_i]])  # Sikrer at vi kun tester union_lag\n",
    "\n",
    "# Beregn Wald-teststatistik\n",
    "W = (C_FE @ Probit_FE[\"theta_hat\"]).T\n",
    "Sigma = C_FE @ Probit_FE[\"cov\"] @ C_FE.T\n",
    "\n",
    "# Brug pseudo-invers for at undgå matrix-inversionsfejl\n",
    "Sigma_inv = np.linalg.pinv(Sigma)  # Brug pseudo-invers i stedet for np.linalg.inv()\n",
    "\n",
    "Wald_FE = W @ Sigma_inv @ W\n",
    "\n",
    "# Beregn p-værdi\n",
    "P_val_FE = 1 - scipy.stats.chi2.cdf(Wald_FE.squeeze(), df=1)\n",
    "\n",
    "# Print resultater\n",
    "print(f\"Wald test statistic: {Wald_FE.squeeze():.3f}\")\n",
    "print(f\"p-value: {P_val_FE:.3f}\")\n",
    "\n",
    "# Konklusion\n",
    "if P_val_FE < 0.05:\n",
    "    print(\"==> Vi afviser H0: Der er signifikant state dependence (ρ ≠ 0).\")\n",
    "else:\n",
    "    print(\"==> Vi kan IKKE afvise H0: Ingen signifikant state dependence (ρ = 0).\")\n"
   ]
  },
  {
   "cell_type": "markdown",
   "metadata": {},
   "source": [
    "## Hausmann"
   ]
  },
  {
   "cell_type": "code",
   "execution_count": 265,
   "metadata": {},
   "outputs": [
    {
     "name": "stdout",
     "output_type": "stream",
     "text": [
      "   b_fe     b_re    b_diff\n",
      "-------  -------  --------\n",
      "-0.2091   1.4776   -1.6868\n",
      "-0.0461   0.0374   -0.0834\n",
      "-0.0562  -0.1175    0.0612\n",
      "\n",
      "Hausman test statistic: -99.80, p-value: 1.0000\n",
      "==> Vi kan IKKE afvise H0: RE er mere effektiv.\n"
     ]
    }
   ],
   "source": [
    "from tabulate import tabulate\n",
    "\n",
    "# Hent estimerede parametre fra FE og RE\n",
    "B_fe = Probit_FE[\"theta_hat\"]  # Fixed Effects koefficienter\n",
    "B_re = Probit_RE[\"theta_hat\"]  # Random Effects koefficienter\n",
    "\n",
    "# Hent kovariansmatricer\n",
    "Cov_fe = Probit_FE[\"cov\"]\n",
    "Cov_re = Probit_RE[\"cov\"]\n",
    "\n",
    "\n",
    "# Fjern den ekstra parameter (sigma_a) fra RE, hvis den findes\n",
    "if B_re.shape[0] > B_fe.shape[0]:  \n",
    "    B_re = B_re[:-1]  # Fjern sidste element (sigma_a)\n",
    "\n",
    "\n",
    "# Beregn forskellen mellem FE og RE koefficienter\n",
    "Hat_diff =  B_fe - B_re \n",
    "\n",
    "# Fjern den ekstra parameter fra RE's kovariansmatrix, hvis den findes\n",
    "if Cov_re.shape[0] > Cov_fe.shape[0]:\n",
    "    Cov_re = Cov_re[:-1, :-1]  # Fjern sigma_a fra RE's kovariansmatrix\n",
    "\n",
    "\n",
    "# Beregn forskellen mellem kovariansmatricerne\n",
    "cov_diff = Cov_fe - Cov_re\n",
    "\n",
    "# Brug pseudo-invers for at undgå matrix-inversionsfejl\n",
    "cov_diff_inv = np.linalg.inv(cov_diff)\n",
    "\n",
    "# Beregn Hausman-teststatistikken\n",
    "H = Hat_diff.T @ cov_diff_inv @ Hat_diff\n",
    "\n",
    "# Beregn frihedsgrader (antal testede parametre)\n",
    "df_h = len(Hat_diff)\n",
    "\n",
    "# Beregn p-værdi fra chi2-fordeling\n",
    "p_val = chi2.sf(H.item(), df_h)\n",
    "\n",
    "# Udskriv resultater\n",
    "def print_h_test(fe_result, re_result, hat_diff, p_val):\n",
    "    table = []\n",
    "    for i in range(len(hat_diff)):\n",
    "        row = [\n",
    "            fe_result[\"theta_hat\"][i],  \n",
    "            re_result[\"theta_hat\"][i],  \n",
    "            hat_diff[i]\n",
    "        ]\n",
    "        table.append(row)\n",
    "\n",
    "    print(tabulate(table, headers=[\"b_fe\", \"b_re\", \"b_diff\"], floatfmt=\".4f\"))\n",
    "    print(f\"\\nHausman test statistic: {H.item():.2f}, p-value: {p_val:.4f}\")\n",
    "\n",
    "# Kør og vis testen\n",
    "print_h_test(Probit_FE, Probit_RE, Hat_diff, p_val)\n",
    "\n",
    "# Konklusion\n",
    "if p_val < 0.05:\n",
    "    print(\"==> Vi afviser H0: FE er bedre end RE.\")\n",
    "else:\n",
    "    print(\"==> Vi kan IKKE afvise H0: RE er mere effektiv.\")\n"
   ]
  },
  {
   "cell_type": "code",
   "execution_count": 268,
   "metadata": {},
   "outputs": [
    {
     "name": "stdout",
     "output_type": "stream",
     "text": [
      "   b_fe     b_re    b_diff\n",
      "-------  -------  --------\n",
      "-0.3812   2.5673   -2.9485\n",
      "-0.0749   0.0816   -0.1565\n",
      "-0.0918  -0.2061    0.1143\n",
      "\n",
      "Hausman test statistic: 37607.10, p-value: 0.0000\n",
      "==> Vi afviser H0: FE er bedre end RE.\n"
     ]
    }
   ],
   "source": [
    "from tabulate import tabulate\n",
    "\n",
    "# Hent estimerede parametre fra FE og RE\n",
    "B_fe = Logit_FE[\"theta_hat\"]  # Fixed Effects koefficienter\n",
    "B_re = Logit_RE[\"theta_hat\"]  # Random Effects koefficienter\n",
    "\n",
    "# Hent kovariansmatricer\n",
    "Cov_fe = Logit_FE[\"cov\"]\n",
    "Cov_re = Logit_RE[\"cov\"]\n",
    "\n",
    "\n",
    "# Fjern den ekstra parameter (sigma_a) fra RE, hvis den findes\n",
    "if B_re.shape[0] > B_fe.shape[0]:  \n",
    "    B_re = B_re[:-1]  # Fjern sidste element (sigma_a)\n",
    "\n",
    "\n",
    "# Beregn forskellen mellem FE og RE koefficienter\n",
    "Hat_diff =  B_fe - B_re \n",
    "\n",
    "# Fjern den ekstra parameter fra RE's kovariansmatrix, hvis den findes\n",
    "if Cov_re.shape[0] > Cov_fe.shape[0]:\n",
    "    Cov_re = Cov_re[:-1, :-1]  # Fjern sigma_a fra RE's kovariansmatrix\n",
    "\n",
    "\n",
    "# Beregn forskellen mellem kovariansmatricerne\n",
    "cov_diff = Cov_fe - Cov_re\n",
    "\n",
    "# Brug pseudo-invers for at undgå matrix-inversionsfejl\n",
    "cov_diff_inv = np.linalg.inv(cov_diff)\n",
    "\n",
    "# Beregn Hausman-teststatistikken\n",
    "H = Hat_diff.T @ cov_diff_inv @ Hat_diff\n",
    "\n",
    "# Beregn frihedsgrader (antal testede parametre)\n",
    "df_h = len(Hat_diff)\n",
    "\n",
    "# Beregn p-værdi fra chi2-fordeling\n",
    "p_val = chi2.sf(H.item(), df_h)\n",
    "\n",
    "# Udskriv resultater\n",
    "def print_h_test(fe_result, re_result, hat_diff, p_val):\n",
    "    table = []\n",
    "    for i in range(len(hat_diff)):\n",
    "        row = [\n",
    "            fe_result[\"theta_hat\"][i],  \n",
    "            re_result[\"theta_hat\"][i],  \n",
    "            hat_diff[i]\n",
    "        ]\n",
    "        table.append(row)\n",
    "\n",
    "    print(tabulate(table, headers=[\"b_fe\", \"b_re\", \"b_diff\"], floatfmt=\".4f\"))\n",
    "    print(f\"\\nHausman test statistic: {H.item():.2f}, p-value: {p_val:.4f}\")\n",
    "\n",
    "# Kør og vis testen\n",
    "print_h_test(Logit_FE, Logit_RE, Hat_diff, p_val)\n",
    "\n",
    "# Konklusion\n",
    "if p_val < 0.05:\n",
    "    print(\"==> Vi afviser H0: FE er bedre end RE.\")\n",
    "else:\n",
    "    print(\"==> Vi kan IKKE afvise H0: RE er mere effektiv.\")\n"
   ]
  },
  {
   "cell_type": "code",
   "execution_count": 266,
   "metadata": {},
   "outputs": [
    {
     "name": "stdout",
     "output_type": "stream",
     "text": [
      "   b_fe     b_re    b_diff\n",
      "-------  -------  --------\n",
      "-0.0749   0.0816   -0.1565\n",
      "-0.0918  -0.2061    0.1143\n",
      "\n",
      "Hausman test statistic: -12267.69, p-value: 1.0000\n",
      "==> Vi kan IKKE afvise H0: RE er mere effektiv.\n"
     ]
    }
   ],
   "source": [
    "from tabulate import tabulate\n",
    "\n",
    "# Hent estimerede parametre fra FE og RE\n",
    "B_fe = Logit_FE[\"theta_hat\"]  # Fixed Effects koefficienter\n",
    "B_re = Logit_RE[\"theta_hat\"]  # Random Effects koefficienter\n",
    "\n",
    "# Hent kovariansmatricer\n",
    "Cov_fe = Logit_FE[\"cov\"]\n",
    "Cov_re = Logit_RE[\"cov\"]\n",
    "\n",
    "# Fjern konstantleddet fra både FE og RE for at sikre korrekt sammenligning\n",
    "B_fe = B_fe[1:]  # Fjerner konstantled fra FE\n",
    "B_re = B_re[1:-1]  # Fjerner konstantled og sigma_a fra RE\n",
    "Hat_diff = B_fe - B_re  # Forskel mellem FE og RE koefficienter\n",
    "\n",
    "# Fjern konstantled fra RE's kovariansmatrix for at matche FE\n",
    "Cov_fe = Cov_fe[1:, 1:]\n",
    "Cov_re = Cov_re[1:-1, 1:-1]  # Fjern sigma_a fra RE's kovariansmatrix\n",
    "\n",
    "# Beregn forskellen mellem kovariansmatricerne\n",
    "cov_diff = Cov_fe - Cov_re\n",
    "\n",
    "# Brug pseudo-invers for at undgå matrix-inversionsfejl\n",
    "cov_diff_inv = np.linalg.inv(cov_diff)\n",
    "\n",
    "# Beregn Hausman-teststatistikken\n",
    "H = Hat_diff.T @ cov_diff_inv @ Hat_diff\n",
    "\n",
    "# Beregn frihedsgrader (antal testede parametre)\n",
    "df_h = len(Hat_diff)\n",
    "\n",
    "# Beregn p-værdi fra chi2-fordeling\n",
    "p_val = chi2.sf(H.item(), df_h)\n",
    "\n",
    "# Udskriv resultater\n",
    "def print_h_test(fe_result, re_result, hat_diff, p_val):\n",
    "    table = []\n",
    "    for i in range(len(hat_diff)):\n",
    "        row = [\n",
    "            fe_result[\"theta_hat\"][i+1],  # +1 for at springe konstantleddet over\n",
    "            re_result[\"theta_hat\"][i+1],  # +1 for at springe konstantleddet over\n",
    "            hat_diff[i]\n",
    "        ]\n",
    "        table.append(row)\n",
    "\n",
    "    print(tabulate(table, headers=[\"b_fe\", \"b_re\", \"b_diff\"], floatfmt=\".4f\"))\n",
    "    print(f\"\\nHausman test statistic: {H.item():.2f}, p-value: {p_val:.4f}\")\n",
    "\n",
    "# Kør og vis testen\n",
    "print_h_test(Logit_FE, Logit_RE, Hat_diff, p_val)\n",
    "\n",
    "# Konklusion\n",
    "if p_val < 0.05:\n",
    "    print(\"==> Vi afviser H0: FE er bedre end RE.\")\n",
    "else:\n",
    "    print(\"==> Vi kan IKKE afvise H0: RE er mere effektiv.\")\n"
   ]
  }
 ],
 "metadata": {
  "kernelspec": {
   "display_name": "Python 3",
   "language": "python",
   "name": "python3"
  },
  "language_info": {
   "codemirror_mode": {
    "name": "ipython",
    "version": 3
   },
   "file_extension": ".py",
   "mimetype": "text/x-python",
   "name": "python",
   "nbconvert_exporter": "python",
   "pygments_lexer": "ipython3",
   "version": "3.12.1"
  }
 },
 "nbformat": 4,
 "nbformat_minor": 4
}
